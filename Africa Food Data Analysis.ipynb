{
 "cells": [
  {
   "cell_type": "markdown",
   "id": "236e3d6d",
   "metadata": {},
   "source": [
    "# Africa Food Production"
   ]
  },
  {
   "cell_type": "markdown",
   "id": "50e30db9",
   "metadata": {},
   "source": [
    "It is widely known that Africa has a good vegetation for agricultural activities. Most countries in Africa produce their own food crops such as wheat, maize, millet, rice, yam and so on. They export some of thier products to neighbouring countries and the international community for economic purposes.\n",
    "\n",
    "This document shows a detailed analysis of the dataset using various exploratory data analysis methods and visualization tools"
   ]
  },
  {
   "cell_type": "markdown",
   "id": "e701c7f5",
   "metadata": {},
   "source": [
    "Let's import the libraries that will be needed in this analysis"
   ]
  },
  {
   "cell_type": "code",
   "execution_count": 1,
   "id": "0c556f14",
   "metadata": {},
   "outputs": [],
   "source": [
    "import numpy as np\n",
    "import pandas as pd\n",
    "import matplotlib.pyplot as plt"
   ]
  },
  {
   "cell_type": "code",
   "execution_count": 2,
   "id": "f310809b",
   "metadata": {},
   "outputs": [
    {
     "data": {
      "text/html": [
       "<div>\n",
       "<style scoped>\n",
       "    .dataframe tbody tr th:only-of-type {\n",
       "        vertical-align: middle;\n",
       "    }\n",
       "\n",
       "    .dataframe tbody tr th {\n",
       "        vertical-align: top;\n",
       "    }\n",
       "\n",
       "    .dataframe thead th {\n",
       "        text-align: right;\n",
       "    }\n",
       "</style>\n",
       "<table border=\"1\" class=\"dataframe\">\n",
       "  <thead>\n",
       "    <tr style=\"text-align: right;\">\n",
       "      <th></th>\n",
       "      <th>Country</th>\n",
       "      <th>Item</th>\n",
       "      <th>Year</th>\n",
       "      <th>Value</th>\n",
       "    </tr>\n",
       "  </thead>\n",
       "  <tbody>\n",
       "    <tr>\n",
       "      <th>0</th>\n",
       "      <td>Algeria</td>\n",
       "      <td>Wheat and products</td>\n",
       "      <td>2004</td>\n",
       "      <td>2731</td>\n",
       "    </tr>\n",
       "    <tr>\n",
       "      <th>1</th>\n",
       "      <td>Algeria</td>\n",
       "      <td>Wheat and products</td>\n",
       "      <td>2005</td>\n",
       "      <td>2415</td>\n",
       "    </tr>\n",
       "    <tr>\n",
       "      <th>2</th>\n",
       "      <td>Algeria</td>\n",
       "      <td>Wheat and products</td>\n",
       "      <td>2006</td>\n",
       "      <td>2688</td>\n",
       "    </tr>\n",
       "    <tr>\n",
       "      <th>3</th>\n",
       "      <td>Algeria</td>\n",
       "      <td>Wheat and products</td>\n",
       "      <td>2007</td>\n",
       "      <td>2319</td>\n",
       "    </tr>\n",
       "    <tr>\n",
       "      <th>4</th>\n",
       "      <td>Algeria</td>\n",
       "      <td>Wheat and products</td>\n",
       "      <td>2008</td>\n",
       "      <td>1111</td>\n",
       "    </tr>\n",
       "  </tbody>\n",
       "</table>\n",
       "</div>"
      ],
      "text/plain": [
       "   Country                Item  Year  Value\n",
       "0  Algeria  Wheat and products  2004   2731\n",
       "1  Algeria  Wheat and products  2005   2415\n",
       "2  Algeria  Wheat and products  2006   2688\n",
       "3  Algeria  Wheat and products  2007   2319\n",
       "4  Algeria  Wheat and products  2008   1111"
      ]
     },
     "execution_count": 2,
     "metadata": {},
     "output_type": "execute_result"
    }
   ],
   "source": [
    "#importing the dataset\n",
    "\n",
    "df1 = pd.read_csv('1646901118287_acdf14167dd0f4c1f000.csv')\n",
    "df1.head()"
   ]
  },
  {
   "cell_type": "code",
   "execution_count": 3,
   "id": "23e8793e",
   "metadata": {},
   "outputs": [
    {
     "name": "stdout",
     "output_type": "stream",
     "text": [
      "<class 'pandas.core.frame.DataFrame'>\n",
      "RangeIndex: 23110 entries, 0 to 23109\n",
      "Data columns (total 4 columns):\n",
      " #   Column   Non-Null Count  Dtype \n",
      "---  ------   --------------  ----- \n",
      " 0   Country  23110 non-null  object\n",
      " 1   Item     23110 non-null  object\n",
      " 2   Year     23110 non-null  int64 \n",
      " 3   Value    23110 non-null  int64 \n",
      "dtypes: int64(2), object(2)\n",
      "memory usage: 722.3+ KB\n"
     ]
    }
   ],
   "source": [
    "df1.info()"
   ]
  },
  {
   "cell_type": "code",
   "execution_count": 4,
   "id": "c0a43169",
   "metadata": {},
   "outputs": [
    {
     "data": {
      "text/plain": [
       "Index(['Country', 'Item', 'Year', 'Value'], dtype='object')"
      ]
     },
     "execution_count": 4,
     "metadata": {},
     "output_type": "execute_result"
    }
   ],
   "source": [
    "df1.columns"
   ]
  },
  {
   "cell_type": "code",
   "execution_count": 5,
   "id": "e8df4bb5",
   "metadata": {},
   "outputs": [],
   "source": [
    "#changing from the Year column format\n",
    "df1['Year'] = pd.to_datetime(df1['Year'],format = '%Y')"
   ]
  },
  {
   "cell_type": "code",
   "execution_count": 6,
   "id": "cabb7019",
   "metadata": {},
   "outputs": [
    {
     "name": "stdout",
     "output_type": "stream",
     "text": [
      "<class 'pandas.core.frame.DataFrame'>\n",
      "RangeIndex: 23110 entries, 0 to 23109\n",
      "Data columns (total 4 columns):\n",
      " #   Column   Non-Null Count  Dtype         \n",
      "---  ------   --------------  -----         \n",
      " 0   Country  23110 non-null  object        \n",
      " 1   Item     23110 non-null  object        \n",
      " 2   Year     23110 non-null  datetime64[ns]\n",
      " 3   Value    23110 non-null  int64         \n",
      "dtypes: datetime64[ns](1), int64(1), object(2)\n",
      "memory usage: 722.3+ KB\n"
     ]
    }
   ],
   "source": [
    "df1.info()"
   ]
  },
  {
   "cell_type": "code",
   "execution_count": 7,
   "id": "c18d40aa",
   "metadata": {},
   "outputs": [
    {
     "data": {
      "text/plain": [
       "count    23110.000000\n",
       "mean       327.785201\n",
       "std       1607.940343\n",
       "min          0.000000\n",
       "25%          3.000000\n",
       "50%         18.000000\n",
       "75%        108.000000\n",
       "max      54000.000000\n",
       "Name: Value, dtype: float64"
      ]
     },
     "execution_count": 7,
     "metadata": {},
     "output_type": "execute_result"
    }
   ],
   "source": [
    "df1.describe()['Value']"
   ]
  },
  {
   "cell_type": "code",
   "execution_count": 8,
   "id": "881ffa57",
   "metadata": {},
   "outputs": [
    {
     "data": {
      "text/plain": [
       "United Republic of Tanzania    790\n",
       "Morocco                        770\n",
       "South Africa                   750\n",
       "Kenya                          750\n",
       "Egypt                          700\n",
       "Madagascar                     690\n",
       "Cameroon                       650\n",
       "Cote d'Ivoire                  640\n",
       "Zimbabwe                       640\n",
       "Mozambique                     620\n",
       "Tunisia                        610\n",
       "Nigeria                        610\n",
       "Ethiopia                       600\n",
       "Benin                          590\n",
       "Algeria                        580\n",
       "Ghana                          580\n",
       "Uganda                         560\n",
       "Togo                           560\n",
       "Angola                         540\n",
       "Sudan                          540\n",
       "Senegal                        520\n",
       "Sierra Leone                   500\n",
       "Congo                          500\n",
       "Guinea                         500\n",
       "Malawi                         480\n",
       "Zambia                         480\n",
       "Mali                           480\n",
       "Rwanda                         460\n",
       "Mauritius                      460\n",
       "Central African Republic       450\n",
       "Guinea-Bissau                  440\n",
       "Burkina Faso                   430\n",
       "Niger                          430\n",
       "Namibia                        430\n",
       "Liberia                        420\n",
       "Swaziland                      420\n",
       "Gabon                          400\n",
       "Chad                           390\n",
       "Mauritania                     380\n",
       "Gambia                         360\n",
       "Botswana                       340\n",
       "Cabo Verde                     330\n",
       "Sao Tome and Principe          290\n",
       "Lesotho                        230\n",
       "Djibouti                       220\n",
       "Name: Country, dtype: int64"
      ]
     },
     "execution_count": 8,
     "metadata": {},
     "output_type": "execute_result"
    }
   ],
   "source": [
    "#How many unique countries do we have in this dataset\n",
    "df1['Country'].value_counts()"
   ]
  },
  {
   "cell_type": "markdown",
   "id": "25ae88e9",
   "metadata": {},
   "source": [
    "This shows that the countries don't produce the same things\n",
    "\n",
    "For a period of 10 years, some countries prouduced more than others"
   ]
  },
  {
   "cell_type": "code",
   "execution_count": 9,
   "id": "1e93e42d",
   "metadata": {},
   "outputs": [
    {
     "data": {
      "text/html": [
       "<div>\n",
       "<style scoped>\n",
       "    .dataframe tbody tr th:only-of-type {\n",
       "        vertical-align: middle;\n",
       "    }\n",
       "\n",
       "    .dataframe tbody tr th {\n",
       "        vertical-align: top;\n",
       "    }\n",
       "\n",
       "    .dataframe thead th {\n",
       "        text-align: right;\n",
       "    }\n",
       "</style>\n",
       "<table border=\"1\" class=\"dataframe\">\n",
       "  <thead>\n",
       "    <tr style=\"text-align: right;\">\n",
       "      <th></th>\n",
       "      <th>Number of Items produced per year</th>\n",
       "    </tr>\n",
       "  </thead>\n",
       "  <tbody>\n",
       "    <tr>\n",
       "      <th>United Republic of Tanzania</th>\n",
       "      <td>79</td>\n",
       "    </tr>\n",
       "    <tr>\n",
       "      <th>Morocco</th>\n",
       "      <td>77</td>\n",
       "    </tr>\n",
       "    <tr>\n",
       "      <th>South Africa</th>\n",
       "      <td>75</td>\n",
       "    </tr>\n",
       "    <tr>\n",
       "      <th>Kenya</th>\n",
       "      <td>75</td>\n",
       "    </tr>\n",
       "    <tr>\n",
       "      <th>Egypt</th>\n",
       "      <td>70</td>\n",
       "    </tr>\n",
       "    <tr>\n",
       "      <th>Madagascar</th>\n",
       "      <td>69</td>\n",
       "    </tr>\n",
       "    <tr>\n",
       "      <th>Cameroon</th>\n",
       "      <td>65</td>\n",
       "    </tr>\n",
       "    <tr>\n",
       "      <th>Cote d'Ivoire</th>\n",
       "      <td>64</td>\n",
       "    </tr>\n",
       "    <tr>\n",
       "      <th>Zimbabwe</th>\n",
       "      <td>64</td>\n",
       "    </tr>\n",
       "    <tr>\n",
       "      <th>Mozambique</th>\n",
       "      <td>62</td>\n",
       "    </tr>\n",
       "    <tr>\n",
       "      <th>Tunisia</th>\n",
       "      <td>61</td>\n",
       "    </tr>\n",
       "    <tr>\n",
       "      <th>Nigeria</th>\n",
       "      <td>61</td>\n",
       "    </tr>\n",
       "    <tr>\n",
       "      <th>Ethiopia</th>\n",
       "      <td>60</td>\n",
       "    </tr>\n",
       "    <tr>\n",
       "      <th>Benin</th>\n",
       "      <td>59</td>\n",
       "    </tr>\n",
       "    <tr>\n",
       "      <th>Algeria</th>\n",
       "      <td>58</td>\n",
       "    </tr>\n",
       "    <tr>\n",
       "      <th>Ghana</th>\n",
       "      <td>58</td>\n",
       "    </tr>\n",
       "    <tr>\n",
       "      <th>Uganda</th>\n",
       "      <td>56</td>\n",
       "    </tr>\n",
       "    <tr>\n",
       "      <th>Togo</th>\n",
       "      <td>56</td>\n",
       "    </tr>\n",
       "    <tr>\n",
       "      <th>Angola</th>\n",
       "      <td>54</td>\n",
       "    </tr>\n",
       "    <tr>\n",
       "      <th>Sudan</th>\n",
       "      <td>54</td>\n",
       "    </tr>\n",
       "    <tr>\n",
       "      <th>Senegal</th>\n",
       "      <td>52</td>\n",
       "    </tr>\n",
       "    <tr>\n",
       "      <th>Sierra Leone</th>\n",
       "      <td>50</td>\n",
       "    </tr>\n",
       "    <tr>\n",
       "      <th>Congo</th>\n",
       "      <td>50</td>\n",
       "    </tr>\n",
       "    <tr>\n",
       "      <th>Guinea</th>\n",
       "      <td>50</td>\n",
       "    </tr>\n",
       "    <tr>\n",
       "      <th>Malawi</th>\n",
       "      <td>48</td>\n",
       "    </tr>\n",
       "    <tr>\n",
       "      <th>Zambia</th>\n",
       "      <td>48</td>\n",
       "    </tr>\n",
       "    <tr>\n",
       "      <th>Mali</th>\n",
       "      <td>48</td>\n",
       "    </tr>\n",
       "    <tr>\n",
       "      <th>Rwanda</th>\n",
       "      <td>46</td>\n",
       "    </tr>\n",
       "    <tr>\n",
       "      <th>Mauritius</th>\n",
       "      <td>46</td>\n",
       "    </tr>\n",
       "    <tr>\n",
       "      <th>Central African Republic</th>\n",
       "      <td>45</td>\n",
       "    </tr>\n",
       "    <tr>\n",
       "      <th>Guinea-Bissau</th>\n",
       "      <td>44</td>\n",
       "    </tr>\n",
       "    <tr>\n",
       "      <th>Burkina Faso</th>\n",
       "      <td>43</td>\n",
       "    </tr>\n",
       "    <tr>\n",
       "      <th>Niger</th>\n",
       "      <td>43</td>\n",
       "    </tr>\n",
       "    <tr>\n",
       "      <th>Namibia</th>\n",
       "      <td>43</td>\n",
       "    </tr>\n",
       "    <tr>\n",
       "      <th>Liberia</th>\n",
       "      <td>42</td>\n",
       "    </tr>\n",
       "    <tr>\n",
       "      <th>Swaziland</th>\n",
       "      <td>42</td>\n",
       "    </tr>\n",
       "    <tr>\n",
       "      <th>Gabon</th>\n",
       "      <td>40</td>\n",
       "    </tr>\n",
       "    <tr>\n",
       "      <th>Chad</th>\n",
       "      <td>39</td>\n",
       "    </tr>\n",
       "    <tr>\n",
       "      <th>Mauritania</th>\n",
       "      <td>38</td>\n",
       "    </tr>\n",
       "    <tr>\n",
       "      <th>Gambia</th>\n",
       "      <td>36</td>\n",
       "    </tr>\n",
       "    <tr>\n",
       "      <th>Botswana</th>\n",
       "      <td>34</td>\n",
       "    </tr>\n",
       "    <tr>\n",
       "      <th>Cabo Verde</th>\n",
       "      <td>33</td>\n",
       "    </tr>\n",
       "    <tr>\n",
       "      <th>Sao Tome and Principe</th>\n",
       "      <td>29</td>\n",
       "    </tr>\n",
       "    <tr>\n",
       "      <th>Lesotho</th>\n",
       "      <td>23</td>\n",
       "    </tr>\n",
       "    <tr>\n",
       "      <th>Djibouti</th>\n",
       "      <td>22</td>\n",
       "    </tr>\n",
       "  </tbody>\n",
       "</table>\n",
       "</div>"
      ],
      "text/plain": [
       "                             Number of Items produced per year\n",
       "United Republic of Tanzania                                 79\n",
       "Morocco                                                     77\n",
       "South Africa                                                75\n",
       "Kenya                                                       75\n",
       "Egypt                                                       70\n",
       "Madagascar                                                  69\n",
       "Cameroon                                                    65\n",
       "Cote d'Ivoire                                               64\n",
       "Zimbabwe                                                    64\n",
       "Mozambique                                                  62\n",
       "Tunisia                                                     61\n",
       "Nigeria                                                     61\n",
       "Ethiopia                                                    60\n",
       "Benin                                                       59\n",
       "Algeria                                                     58\n",
       "Ghana                                                       58\n",
       "Uganda                                                      56\n",
       "Togo                                                        56\n",
       "Angola                                                      54\n",
       "Sudan                                                       54\n",
       "Senegal                                                     52\n",
       "Sierra Leone                                                50\n",
       "Congo                                                       50\n",
       "Guinea                                                      50\n",
       "Malawi                                                      48\n",
       "Zambia                                                      48\n",
       "Mali                                                        48\n",
       "Rwanda                                                      46\n",
       "Mauritius                                                   46\n",
       "Central African Republic                                    45\n",
       "Guinea-Bissau                                               44\n",
       "Burkina Faso                                                43\n",
       "Niger                                                       43\n",
       "Namibia                                                     43\n",
       "Liberia                                                     42\n",
       "Swaziland                                                   42\n",
       "Gabon                                                       40\n",
       "Chad                                                        39\n",
       "Mauritania                                                  38\n",
       "Gambia                                                      36\n",
       "Botswana                                                    34\n",
       "Cabo Verde                                                  33\n",
       "Sao Tome and Principe                                       29\n",
       "Lesotho                                                     23\n",
       "Djibouti                                                    22"
      ]
     },
     "execution_count": 9,
     "metadata": {},
     "output_type": "execute_result"
    }
   ],
   "source": [
    "items_produced = pd.DataFrame(df1['Country'].value_counts())\n",
    "no_of_items_produced = (items_produced/10).astype(int)\n",
    "no_of_items_produced.rename(columns = {'Country':'Number of Items produced per year'})"
   ]
  },
  {
   "cell_type": "markdown",
   "id": "01584e64",
   "metadata": {},
   "source": [
    "# Removing Outliers\n",
    "Some countries appear to be producing zero values in a year. This is a likely outlier.\n",
    "\n",
    "Some countries also appear to be producing enormous values in a year and we might have to drop those values or assume that the countries are able to prouduce such huge amount of products"
   ]
  },
  {
   "cell_type": "code",
   "execution_count": 10,
   "id": "fce37882",
   "metadata": {},
   "outputs": [
    {
     "data": {
      "image/png": "[encoded data removed]",
      "text/plain": [
       "<Figure size 864x1296 with 1 Axes>"
      ]
     },
     "metadata": {
      "needs_background": "light"
     },
     "output_type": "display_data"
    }
   ],
   "source": [
    "plt.figure(figsize=(12,18))\n",
    "df1.boxplot('Value');"
   ]
  },
  {
   "cell_type": "code",
   "execution_count": 11,
   "id": "998ed70f",
   "metadata": {},
   "outputs": [
    {
     "name": "stdout",
     "output_type": "stream",
     "text": [
      "9.0\n",
      "54000.0\n"
     ]
    }
   ],
   "source": [
    "low,high = df1[\"Value\"].quantile([0.4,1])\n",
    "print(low)\n",
    "print(high)"
   ]
  },
  {
   "cell_type": "markdown",
   "id": "a895d040",
   "metadata": {},
   "source": [
    "The highest and the lowest values produced in this dataset are 54_000 and 9 respectively.\n",
    "\n",
    "The country that produced 54_000 for a singular item might have truly produced it because of the location or vegetation or labour. Therefore, this value can be kept but the lower value(9) can be dropped because a whole nation cannot produce just 9 values for a whole year."
   ]
  },
  {
   "cell_type": "code",
   "execution_count": 12,
   "id": "fec2e3fe",
   "metadata": {},
   "outputs": [],
   "source": [
    "df1 = df1[df1['Value'].between(low,high)]"
   ]
  },
  {
   "cell_type": "code",
   "execution_count": 13,
   "id": "dd189f04",
   "metadata": {},
   "outputs": [
    {
     "data": {
      "text/html": [
       "<div>\n",
       "<style scoped>\n",
       "    .dataframe tbody tr th:only-of-type {\n",
       "        vertical-align: middle;\n",
       "    }\n",
       "\n",
       "    .dataframe tbody tr th {\n",
       "        vertical-align: top;\n",
       "    }\n",
       "\n",
       "    .dataframe thead th {\n",
       "        text-align: right;\n",
       "    }\n",
       "</style>\n",
       "<table border=\"1\" class=\"dataframe\">\n",
       "  <thead>\n",
       "    <tr style=\"text-align: right;\">\n",
       "      <th></th>\n",
       "      <th></th>\n",
       "      <th>Value</th>\n",
       "    </tr>\n",
       "    <tr>\n",
       "      <th>Country</th>\n",
       "      <th>Item</th>\n",
       "      <th></th>\n",
       "    </tr>\n",
       "  </thead>\n",
       "  <tbody>\n",
       "    <tr>\n",
       "      <th rowspan=\"2\" valign=\"top\">Nigeria</th>\n",
       "      <th>Cassava and products</th>\n",
       "      <td>54000</td>\n",
       "    </tr>\n",
       "    <tr>\n",
       "      <th>Yams</th>\n",
       "      <td>40500</td>\n",
       "    </tr>\n",
       "    <tr>\n",
       "      <th>South Africa</th>\n",
       "      <th>Sugar cane</th>\n",
       "      <td>21265</td>\n",
       "    </tr>\n",
       "    <tr>\n",
       "      <th>Egypt</th>\n",
       "      <th>Sugar cane</th>\n",
       "      <td>17014</td>\n",
       "    </tr>\n",
       "    <tr>\n",
       "      <th>Angola</th>\n",
       "      <th>Cassava and products</th>\n",
       "      <td>16412</td>\n",
       "    </tr>\n",
       "    <tr>\n",
       "      <th>Ghana</th>\n",
       "      <th>Cassava and products</th>\n",
       "      <td>15990</td>\n",
       "    </tr>\n",
       "    <tr>\n",
       "      <th>South Africa</th>\n",
       "      <th>Maize and products</th>\n",
       "      <td>12815</td>\n",
       "    </tr>\n",
       "    <tr>\n",
       "      <th>Nigeria</th>\n",
       "      <th>Maize and products</th>\n",
       "      <td>10400</td>\n",
       "    </tr>\n",
       "    <tr>\n",
       "      <th>Egypt</th>\n",
       "      <th>Tomatoes and products</th>\n",
       "      <td>10279</td>\n",
       "    </tr>\n",
       "    <tr>\n",
       "      <th>Mozambique</th>\n",
       "      <th>Cassava and products</th>\n",
       "      <td>10094</td>\n",
       "    </tr>\n",
       "  </tbody>\n",
       "</table>\n",
       "</div>"
      ],
      "text/plain": [
       "                                    Value\n",
       "Country      Item                        \n",
       "Nigeria      Cassava and products   54000\n",
       "             Yams                   40500\n",
       "South Africa Sugar cane             21265\n",
       "Egypt        Sugar cane             17014\n",
       "Angola       Cassava and products   16412\n",
       "Ghana        Cassava and products   15990\n",
       "South Africa Maize and products     12815\n",
       "Nigeria      Maize and products     10400\n",
       "Egypt        Tomatoes and products  10279\n",
       "Mozambique   Cassava and products   10094"
      ]
     },
     "execution_count": 13,
     "metadata": {},
     "output_type": "execute_result"
    }
   ],
   "source": [
    "# What top 10 items produced by each country?\n",
    "\n",
    "pd.DataFrame(df1.groupby(['Country','Item'])['Value'].max().sort_values(ascending=False)[:10])"
   ]
  },
  {
   "cell_type": "markdown",
   "id": "b11e0ad7",
   "metadata": {},
   "source": [
    "As seen in the table above, Nigeria is the largest producer of cassava & products, Yams and Maize & products. Nigeria also had the highest recorded value for production.\n",
    "\n",
    "The table shows the top items produced by each country."
   ]
  },
  {
   "cell_type": "code",
   "execution_count": 14,
   "id": "ebfc6026",
   "metadata": {},
   "outputs": [
    {
     "data": {
      "text/html": [
       "<div>\n",
       "<style scoped>\n",
       "    .dataframe tbody tr th:only-of-type {\n",
       "        vertical-align: middle;\n",
       "    }\n",
       "\n",
       "    .dataframe tbody tr th {\n",
       "        vertical-align: top;\n",
       "    }\n",
       "\n",
       "    .dataframe thead th {\n",
       "        text-align: right;\n",
       "    }\n",
       "</style>\n",
       "<table border=\"1\" class=\"dataframe\">\n",
       "  <thead>\n",
       "    <tr style=\"text-align: right;\">\n",
       "      <th></th>\n",
       "      <th>Country</th>\n",
       "      <th>Item</th>\n",
       "      <th>Year</th>\n",
       "      <th>Value</th>\n",
       "    </tr>\n",
       "  </thead>\n",
       "  <tbody>\n",
       "    <tr>\n",
       "      <th>15448</th>\n",
       "      <td>Nigeria</td>\n",
       "      <td>Cassava and products</td>\n",
       "      <td>2012-01-01</td>\n",
       "      <td>54000</td>\n",
       "    </tr>\n",
       "  </tbody>\n",
       "</table>\n",
       "</div>"
      ],
      "text/plain": [
       "       Country                  Item       Year  Value\n",
       "15448  Nigeria  Cassava and products 2012-01-01  54000"
      ]
     },
     "execution_count": 14,
     "metadata": {},
     "output_type": "execute_result"
    }
   ],
   "source": [
    "#What year did Nigeria produce a value of 54000\n",
    "\n",
    "df1[(df1['Country'] == 'Nigeria') & (df1['Value'] == 54_000)]"
   ]
  },
  {
   "cell_type": "markdown",
   "id": "cff7396c",
   "metadata": {},
   "source": [
    "Nigeria had the highest production value in 2012"
   ]
  },
  {
   "cell_type": "code",
   "execution_count": 15,
   "id": "ccf6592f",
   "metadata": {},
   "outputs": [],
   "source": [
    "#dropping the Year column\n",
    "df1 = df1.set_index(df1['Year'])\n",
    "df1.drop(columns = ['Year'],inplace = True)\n"
   ]
  },
  {
   "cell_type": "code",
   "execution_count": 16,
   "id": "4de89389",
   "metadata": {},
   "outputs": [
    {
     "data": {
      "text/plain": [
       "10"
      ]
     },
     "execution_count": 16,
     "metadata": {},
     "output_type": "execute_result"
    }
   ],
   "source": [
    "#finding the total number of years the data was obtained\n",
    "df1.index.max().year - df1.index.min().year + 1"
   ]
  },
  {
   "cell_type": "code",
   "execution_count": 17,
   "id": "b5f12022",
   "metadata": {},
   "outputs": [
    {
     "data": {
      "text/html": [
       "<div>\n",
       "<style scoped>\n",
       "    .dataframe tbody tr th:only-of-type {\n",
       "        vertical-align: middle;\n",
       "    }\n",
       "\n",
       "    .dataframe tbody tr th {\n",
       "        vertical-align: top;\n",
       "    }\n",
       "\n",
       "    .dataframe thead th {\n",
       "        text-align: right;\n",
       "    }\n",
       "</style>\n",
       "<table border=\"1\" class=\"dataframe\">\n",
       "  <thead>\n",
       "    <tr style=\"text-align: right;\">\n",
       "      <th></th>\n",
       "      <th>Country</th>\n",
       "      <th>Item</th>\n",
       "      <th>Value</th>\n",
       "    </tr>\n",
       "    <tr>\n",
       "      <th>Year</th>\n",
       "      <th></th>\n",
       "      <th></th>\n",
       "      <th></th>\n",
       "    </tr>\n",
       "  </thead>\n",
       "  <tbody>\n",
       "    <tr>\n",
       "      <th>2004-01-01</th>\n",
       "      <td>Algeria</td>\n",
       "      <td>Wheat and products</td>\n",
       "      <td>2731</td>\n",
       "    </tr>\n",
       "    <tr>\n",
       "      <th>2005-01-01</th>\n",
       "      <td>Algeria</td>\n",
       "      <td>Wheat and products</td>\n",
       "      <td>2415</td>\n",
       "    </tr>\n",
       "    <tr>\n",
       "      <th>2006-01-01</th>\n",
       "      <td>Algeria</td>\n",
       "      <td>Wheat and products</td>\n",
       "      <td>2688</td>\n",
       "    </tr>\n",
       "    <tr>\n",
       "      <th>2007-01-01</th>\n",
       "      <td>Algeria</td>\n",
       "      <td>Wheat and products</td>\n",
       "      <td>2319</td>\n",
       "    </tr>\n",
       "    <tr>\n",
       "      <th>2008-01-01</th>\n",
       "      <td>Algeria</td>\n",
       "      <td>Wheat and products</td>\n",
       "      <td>1111</td>\n",
       "    </tr>\n",
       "    <tr>\n",
       "      <th>...</th>\n",
       "      <td>...</td>\n",
       "      <td>...</td>\n",
       "      <td>...</td>\n",
       "    </tr>\n",
       "    <tr>\n",
       "      <th>2009-01-01</th>\n",
       "      <td>Zimbabwe</td>\n",
       "      <td>Freshwater Fish</td>\n",
       "      <td>13</td>\n",
       "    </tr>\n",
       "    <tr>\n",
       "      <th>2010-01-01</th>\n",
       "      <td>Zimbabwe</td>\n",
       "      <td>Freshwater Fish</td>\n",
       "      <td>13</td>\n",
       "    </tr>\n",
       "    <tr>\n",
       "      <th>2011-01-01</th>\n",
       "      <td>Zimbabwe</td>\n",
       "      <td>Freshwater Fish</td>\n",
       "      <td>18</td>\n",
       "    </tr>\n",
       "    <tr>\n",
       "      <th>2012-01-01</th>\n",
       "      <td>Zimbabwe</td>\n",
       "      <td>Freshwater Fish</td>\n",
       "      <td>18</td>\n",
       "    </tr>\n",
       "    <tr>\n",
       "      <th>2013-01-01</th>\n",
       "      <td>Zimbabwe</td>\n",
       "      <td>Freshwater Fish</td>\n",
       "      <td>18</td>\n",
       "    </tr>\n",
       "  </tbody>\n",
       "</table>\n",
       "<p>14083 rows × 3 columns</p>\n",
       "</div>"
      ],
      "text/plain": [
       "             Country                Item  Value\n",
       "Year                                           \n",
       "2004-01-01   Algeria  Wheat and products   2731\n",
       "2005-01-01   Algeria  Wheat and products   2415\n",
       "2006-01-01   Algeria  Wheat and products   2688\n",
       "2007-01-01   Algeria  Wheat and products   2319\n",
       "2008-01-01   Algeria  Wheat and products   1111\n",
       "...              ...                 ...    ...\n",
       "2009-01-01  Zimbabwe     Freshwater Fish     13\n",
       "2010-01-01  Zimbabwe     Freshwater Fish     13\n",
       "2011-01-01  Zimbabwe     Freshwater Fish     18\n",
       "2012-01-01  Zimbabwe     Freshwater Fish     18\n",
       "2013-01-01  Zimbabwe     Freshwater Fish     18\n",
       "\n",
       "[14083 rows x 3 columns]"
      ]
     },
     "execution_count": 17,
     "metadata": {},
     "output_type": "execute_result"
    }
   ],
   "source": [
    "df1"
   ]
  },
  {
   "cell_type": "code",
   "execution_count": 18,
   "id": "302847f6",
   "metadata": {},
   "outputs": [
    {
     "data": {
      "image/png": "[encoded data removed]",
      "text/plain": [
       "<Figure size 1152x1440 with 1 Axes>"
      ]
     },
     "metadata": {
      "needs_background": "light"
     },
     "output_type": "display_data"
    }
   ],
   "source": [
    "#Investigating the mean of values for each country\n",
    "\n",
    "plt.figure(figsize = (16,20))\n",
    "df1.groupby('Country')['Value'].mean().sort_values().plot(kind='barh');"
   ]
  },
  {
   "cell_type": "markdown",
   "id": "c9b414b0",
   "metadata": {},
   "source": [
    "From the bar plot above, Nigeria had the the highest average of values while cabo verde had the least."
   ]
  },
  {
   "cell_type": "code",
   "execution_count": 19,
   "id": "9e8d1b2d",
   "metadata": {},
   "outputs": [
    {
     "data": {
      "text/plain": [
       "2906.9607142857144"
      ]
     },
     "execution_count": 19,
     "metadata": {},
     "output_type": "execute_result"
    }
   ],
   "source": [
    "#The mean for Nigeria is calculated below\n",
    "\n",
    "df1.groupby('Country')['Value'].mean()['Nigeria']"
   ]
  },
  {
   "cell_type": "code",
   "execution_count": 20,
   "id": "382dae5d",
   "metadata": {},
   "outputs": [
    {
     "data": {
      "text/plain": [
       "16.833333333333332"
      ]
     },
     "execution_count": 20,
     "metadata": {},
     "output_type": "execute_result"
    }
   ],
   "source": [
    "df1.groupby('Country')['Value'].mean()['Cabo Verde']"
   ]
  },
  {
   "cell_type": "code",
   "execution_count": 21,
   "id": "3c261ccd",
   "metadata": {
    "scrolled": true
   },
   "outputs": [
    {
     "data": {
      "image/png": "[encoded data removed]",
      "text/plain": [
       "<Figure size 576x360 with 1 Axes>"
      ]
     },
     "metadata": {
      "needs_background": "light"
     },
     "output_type": "display_data"
    }
   ],
   "source": [
    "#Bar plot showing the least countries that produced items\n",
    "fig,ax = plt.subplots(figsize = (8,5))\n",
    "df1.groupby(['Country']).sum().sort_values(by = 'Value',ascending=True)[:5].plot(kind='barh',ax=ax)\n",
    "plt.xlabel('Value')\n",
    "plt.title('Plot showing least five producing countries');"
   ]
  },
  {
   "cell_type": "code",
   "execution_count": 22,
   "id": "c4c38380",
   "metadata": {},
   "outputs": [
    {
     "data": {
      "image/png": "[encoded data removed]",
      "text/plain": [
       "<Figure size 576x360 with 1 Axes>"
      ]
     },
     "metadata": {
      "needs_background": "light"
     },
     "output_type": "display_data"
    }
   ],
   "source": [
    "# Bar plot showing the top five countries that produced more \n",
    "fig,ax = plt.subplots(figsize = (8,5))\n",
    "df1.groupby(['Country']).sum().sort_values(by = 'Value',ascending=True)[-5:].plot(kind='barh',ax=ax)\n",
    "plt.xlabel('Value')\n",
    "plt.title('Plot showing top five producing countries');"
   ]
  },
  {
   "cell_type": "code",
   "execution_count": 23,
   "id": "d3980a29",
   "metadata": {},
   "outputs": [
    {
     "data": {
      "text/plain": [
       "Country\n",
       "Djibouti    448\n",
       "Name: Value, dtype: int64"
      ]
     },
     "execution_count": 23,
     "metadata": {},
     "output_type": "execute_result"
    }
   ],
   "source": [
    "df1[(df1['Country']=='Djibouti')].groupby('Country')['Value'].sum()"
   ]
  },
  {
   "cell_type": "code",
   "execution_count": 24,
   "id": "31abd741",
   "metadata": {},
   "outputs": [
    {
     "data": {
      "text/html": [
       "<div>\n",
       "<style scoped>\n",
       "    .dataframe tbody tr th:only-of-type {\n",
       "        vertical-align: middle;\n",
       "    }\n",
       "\n",
       "    .dataframe tbody tr th {\n",
       "        vertical-align: top;\n",
       "    }\n",
       "\n",
       "    .dataframe thead th {\n",
       "        text-align: right;\n",
       "    }\n",
       "</style>\n",
       "<table border=\"1\" class=\"dataframe\">\n",
       "  <thead>\n",
       "    <tr style=\"text-align: right;\">\n",
       "      <th></th>\n",
       "      <th>Top Products Produced in Djibouti</th>\n",
       "    </tr>\n",
       "  </thead>\n",
       "  <tbody>\n",
       "    <tr>\n",
       "      <th>1</th>\n",
       "      <td>Vegetables, Other</td>\n",
       "    </tr>\n",
       "    <tr>\n",
       "      <th>2</th>\n",
       "      <td>Milk - Excluding Butter</td>\n",
       "    </tr>\n",
       "  </tbody>\n",
       "</table>\n",
       "</div>"
      ],
      "text/plain": [
       "  Top Products Produced in Djibouti\n",
       "1                 Vegetables, Other\n",
       "2           Milk - Excluding Butter"
      ]
     },
     "execution_count": 24,
     "metadata": {},
     "output_type": "execute_result"
    }
   ],
   "source": [
    "pd.DataFrame(df1[df1['Country']=='Djibouti'].sort_values(by='Value',ascending = False)['Item'].unique()[:5],columns = ['Top Products Produced in Djibouti'],index = np.arange(1,3))"
   ]
  },
  {
   "cell_type": "markdown",
   "id": "667ebf1f",
   "metadata": {},
   "source": [
    "The table above shows that Djibouti is only a good producer of vegetables and milk"
   ]
  },
  {
   "cell_type": "code",
   "execution_count": 25,
   "id": "89a9b488",
   "metadata": {},
   "outputs": [
    {
     "data": {
      "text/html": [
       "<div>\n",
       "<style scoped>\n",
       "    .dataframe tbody tr th:only-of-type {\n",
       "        vertical-align: middle;\n",
       "    }\n",
       "\n",
       "    .dataframe tbody tr th {\n",
       "        vertical-align: top;\n",
       "    }\n",
       "\n",
       "    .dataframe thead th {\n",
       "        text-align: right;\n",
       "    }\n",
       "</style>\n",
       "<table border=\"1\" class=\"dataframe\">\n",
       "  <thead>\n",
       "    <tr style=\"text-align: right;\">\n",
       "      <th></th>\n",
       "      <th>Top Five Products Produced in Nigeria</th>\n",
       "    </tr>\n",
       "  </thead>\n",
       "  <tbody>\n",
       "    <tr>\n",
       "      <th>1</th>\n",
       "      <td>Cassava and products</td>\n",
       "    </tr>\n",
       "    <tr>\n",
       "      <th>2</th>\n",
       "      <td>Yams</td>\n",
       "    </tr>\n",
       "    <tr>\n",
       "      <th>3</th>\n",
       "      <td>Maize and products</td>\n",
       "    </tr>\n",
       "    <tr>\n",
       "      <th>4</th>\n",
       "      <td>Sorghum and products</td>\n",
       "    </tr>\n",
       "    <tr>\n",
       "      <th>5</th>\n",
       "      <td>Beverages, Fermented</td>\n",
       "    </tr>\n",
       "  </tbody>\n",
       "</table>\n",
       "</div>"
      ],
      "text/plain": [
       "  Top Five Products Produced in Nigeria\n",
       "1                  Cassava and products\n",
       "2                                  Yams\n",
       "3                    Maize and products\n",
       "4                  Sorghum and products\n",
       "5                  Beverages, Fermented"
      ]
     },
     "execution_count": 25,
     "metadata": {},
     "output_type": "execute_result"
    }
   ],
   "source": [
    "pd.DataFrame(df1[df1['Country']=='Nigeria'].sort_values(by='Value',ascending = False)['Item'].unique()[:5],columns = ['Top Five Products Produced in Nigeria'],index = np.arange(1,6))"
   ]
  },
  {
   "cell_type": "markdown",
   "id": "49da3c86",
   "metadata": {},
   "source": [
    "The table above shows the top five products that Nigeria produces"
   ]
  },
  {
   "cell_type": "markdown",
   "id": "3c4d4242",
   "metadata": {},
   "source": [
    "  "
   ]
  },
  {
   "cell_type": "markdown",
   "id": "e9df2a36",
   "metadata": {},
   "source": [
    "# Food Supply/Consumption Dataset"
   ]
  },
  {
   "cell_type": "markdown",
   "id": "3519857b",
   "metadata": {},
   "source": [
    "Let's talk about supply of food and consumption"
   ]
  },
  {
   "cell_type": "markdown",
   "id": "9d6f698a",
   "metadata": {},
   "source": [
    "This dataset contains only the country, year and value columns"
   ]
  },
  {
   "cell_type": "code",
   "execution_count": 26,
   "id": "1815a689",
   "metadata": {},
   "outputs": [
    {
     "data": {
      "text/html": [
       "<div>\n",
       "<style scoped>\n",
       "    .dataframe tbody tr th:only-of-type {\n",
       "        vertical-align: middle;\n",
       "    }\n",
       "\n",
       "    .dataframe tbody tr th {\n",
       "        vertical-align: top;\n",
       "    }\n",
       "\n",
       "    .dataframe thead th {\n",
       "        text-align: right;\n",
       "    }\n",
       "</style>\n",
       "<table border=\"1\" class=\"dataframe\">\n",
       "  <thead>\n",
       "    <tr style=\"text-align: right;\">\n",
       "      <th></th>\n",
       "      <th>Country</th>\n",
       "      <th>Year</th>\n",
       "      <th>Value</th>\n",
       "    </tr>\n",
       "  </thead>\n",
       "  <tbody>\n",
       "    <tr>\n",
       "      <th>0</th>\n",
       "      <td>Algeria</td>\n",
       "      <td>2004</td>\n",
       "      <td>2987</td>\n",
       "    </tr>\n",
       "    <tr>\n",
       "      <th>1</th>\n",
       "      <td>Algeria</td>\n",
       "      <td>2005</td>\n",
       "      <td>2958</td>\n",
       "    </tr>\n",
       "    <tr>\n",
       "      <th>2</th>\n",
       "      <td>Algeria</td>\n",
       "      <td>2006</td>\n",
       "      <td>3047</td>\n",
       "    </tr>\n",
       "    <tr>\n",
       "      <th>3</th>\n",
       "      <td>Algeria</td>\n",
       "      <td>2007</td>\n",
       "      <td>3041</td>\n",
       "    </tr>\n",
       "    <tr>\n",
       "      <th>4</th>\n",
       "      <td>Algeria</td>\n",
       "      <td>2008</td>\n",
       "      <td>3048</td>\n",
       "    </tr>\n",
       "  </tbody>\n",
       "</table>\n",
       "</div>"
      ],
      "text/plain": [
       "   Country  Year  Value\n",
       "0  Algeria  2004   2987\n",
       "1  Algeria  2005   2958\n",
       "2  Algeria  2006   3047\n",
       "3  Algeria  2007   3041\n",
       "4  Algeria  2008   3048"
      ]
     },
     "execution_count": 26,
     "metadata": {},
     "output_type": "execute_result"
    }
   ],
   "source": [
    "#africa supply\n",
    "df2 = pd.read_csv('1646899450109_7a8814167de36d41f000.csv')\n",
    "df2.head()"
   ]
  },
  {
   "cell_type": "code",
   "execution_count": 27,
   "id": "bdfe3d64",
   "metadata": {},
   "outputs": [],
   "source": [
    "#changing the format of the year column\n",
    "df2['Year']= pd.to_datetime(df2['Year'], format = '%Y')"
   ]
  },
  {
   "cell_type": "code",
   "execution_count": 28,
   "id": "1fbb7ad6",
   "metadata": {},
   "outputs": [],
   "source": [
    "#setting the year column as the new index and dropping the year column\n",
    "\n",
    "df2 = df2.set_index(df2['Year'])\n",
    "df2.drop(columns = ['Year'],inplace = True)\n"
   ]
  },
  {
   "cell_type": "code",
   "execution_count": 29,
   "id": "236fc35d",
   "metadata": {},
   "outputs": [
    {
     "data": {
      "text/html": [
       "<div>\n",
       "<style scoped>\n",
       "    .dataframe tbody tr th:only-of-type {\n",
       "        vertical-align: middle;\n",
       "    }\n",
       "\n",
       "    .dataframe tbody tr th {\n",
       "        vertical-align: top;\n",
       "    }\n",
       "\n",
       "    .dataframe thead th {\n",
       "        text-align: right;\n",
       "    }\n",
       "</style>\n",
       "<table border=\"1\" class=\"dataframe\">\n",
       "  <thead>\n",
       "    <tr style=\"text-align: right;\">\n",
       "      <th></th>\n",
       "      <th>Value</th>\n",
       "    </tr>\n",
       "    <tr>\n",
       "      <th>Year</th>\n",
       "      <th></th>\n",
       "    </tr>\n",
       "  </thead>\n",
       "  <tbody>\n",
       "    <tr>\n",
       "      <th>2004-01-01</th>\n",
       "      <td>660758</td>\n",
       "    </tr>\n",
       "    <tr>\n",
       "      <th>2005-01-01</th>\n",
       "      <td>689010</td>\n",
       "    </tr>\n",
       "    <tr>\n",
       "      <th>2006-01-01</th>\n",
       "      <td>716408</td>\n",
       "    </tr>\n",
       "    <tr>\n",
       "      <th>2007-01-01</th>\n",
       "      <td>703417</td>\n",
       "    </tr>\n",
       "    <tr>\n",
       "      <th>2008-01-01</th>\n",
       "      <td>734573</td>\n",
       "    </tr>\n",
       "    <tr>\n",
       "      <th>2009-01-01</th>\n",
       "      <td>744724</td>\n",
       "    </tr>\n",
       "    <tr>\n",
       "      <th>2010-01-01</th>\n",
       "      <td>784357</td>\n",
       "    </tr>\n",
       "    <tr>\n",
       "      <th>2011-01-01</th>\n",
       "      <td>810144</td>\n",
       "    </tr>\n",
       "    <tr>\n",
       "      <th>2012-01-01</th>\n",
       "      <td>839594</td>\n",
       "    </tr>\n",
       "    <tr>\n",
       "      <th>2013-01-01</th>\n",
       "      <td>870514</td>\n",
       "    </tr>\n",
       "  </tbody>\n",
       "</table>\n",
       "</div>"
      ],
      "text/plain": [
       "             Value\n",
       "Year              \n",
       "2004-01-01  660758\n",
       "2005-01-01  689010\n",
       "2006-01-01  716408\n",
       "2007-01-01  703417\n",
       "2008-01-01  734573\n",
       "2009-01-01  744724\n",
       "2010-01-01  784357\n",
       "2011-01-01  810144\n",
       "2012-01-01  839594\n",
       "2013-01-01  870514"
      ]
     },
     "execution_count": 29,
     "metadata": {},
     "output_type": "execute_result"
    }
   ],
   "source": [
    "#The sum of productions for each year\n",
    "df1.groupby([df1.index]).sum()"
   ]
  },
  {
   "cell_type": "code",
   "execution_count": 30,
   "id": "1df481cc",
   "metadata": {},
   "outputs": [
    {
     "data": {
      "text/html": [
       "<div>\n",
       "<style scoped>\n",
       "    .dataframe tbody tr th:only-of-type {\n",
       "        vertical-align: middle;\n",
       "    }\n",
       "\n",
       "    .dataframe tbody tr th {\n",
       "        vertical-align: top;\n",
       "    }\n",
       "\n",
       "    .dataframe thead th {\n",
       "        text-align: right;\n",
       "    }\n",
       "</style>\n",
       "<table border=\"1\" class=\"dataframe\">\n",
       "  <thead>\n",
       "    <tr style=\"text-align: right;\">\n",
       "      <th></th>\n",
       "      <th>Value</th>\n",
       "    </tr>\n",
       "    <tr>\n",
       "      <th>Year</th>\n",
       "      <th></th>\n",
       "    </tr>\n",
       "  </thead>\n",
       "  <tbody>\n",
       "    <tr>\n",
       "      <th>2004-01-01</th>\n",
       "      <td>107740</td>\n",
       "    </tr>\n",
       "    <tr>\n",
       "      <th>2005-01-01</th>\n",
       "      <td>108418</td>\n",
       "    </tr>\n",
       "    <tr>\n",
       "      <th>2006-01-01</th>\n",
       "      <td>109386</td>\n",
       "    </tr>\n",
       "    <tr>\n",
       "      <th>2007-01-01</th>\n",
       "      <td>110149</td>\n",
       "    </tr>\n",
       "    <tr>\n",
       "      <th>2008-01-01</th>\n",
       "      <td>110734</td>\n",
       "    </tr>\n",
       "    <tr>\n",
       "      <th>2009-01-01</th>\n",
       "      <td>111700</td>\n",
       "    </tr>\n",
       "    <tr>\n",
       "      <th>2010-01-01</th>\n",
       "      <td>112383</td>\n",
       "    </tr>\n",
       "    <tr>\n",
       "      <th>2011-01-01</th>\n",
       "      <td>113194</td>\n",
       "    </tr>\n",
       "    <tr>\n",
       "      <th>2012-01-01</th>\n",
       "      <td>113744</td>\n",
       "    </tr>\n",
       "    <tr>\n",
       "      <th>2013-01-01</th>\n",
       "      <td>113951</td>\n",
       "    </tr>\n",
       "  </tbody>\n",
       "</table>\n",
       "</div>"
      ],
      "text/plain": [
       "             Value\n",
       "Year              \n",
       "2004-01-01  107740\n",
       "2005-01-01  108418\n",
       "2006-01-01  109386\n",
       "2007-01-01  110149\n",
       "2008-01-01  110734\n",
       "2009-01-01  111700\n",
       "2010-01-01  112383\n",
       "2011-01-01  113194\n",
       "2012-01-01  113744\n",
       "2013-01-01  113951"
      ]
     },
     "execution_count": 30,
     "metadata": {},
     "output_type": "execute_result"
    }
   ],
   "source": [
    "#The sum of supply for each year\n",
    "df2.groupby([df2.index]).sum()"
   ]
  },
  {
   "cell_type": "code",
   "execution_count": 31,
   "id": "f7a2b5c6",
   "metadata": {},
   "outputs": [
    {
     "data": {
      "text/html": [
       "<div>\n",
       "<style scoped>\n",
       "    .dataframe tbody tr th:only-of-type {\n",
       "        vertical-align: middle;\n",
       "    }\n",
       "\n",
       "    .dataframe tbody tr th {\n",
       "        vertical-align: top;\n",
       "    }\n",
       "\n",
       "    .dataframe thead th {\n",
       "        text-align: right;\n",
       "    }\n",
       "</style>\n",
       "<table border=\"1\" class=\"dataframe\">\n",
       "  <thead>\n",
       "    <tr style=\"text-align: right;\">\n",
       "      <th></th>\n",
       "      <th>Value</th>\n",
       "    </tr>\n",
       "  </thead>\n",
       "  <tbody>\n",
       "    <tr>\n",
       "      <th>count</th>\n",
       "      <td>450.000000</td>\n",
       "    </tr>\n",
       "    <tr>\n",
       "      <th>mean</th>\n",
       "      <td>2469.775556</td>\n",
       "    </tr>\n",
       "    <tr>\n",
       "      <th>std</th>\n",
       "      <td>379.140143</td>\n",
       "    </tr>\n",
       "    <tr>\n",
       "      <th>min</th>\n",
       "      <td>1781.000000</td>\n",
       "    </tr>\n",
       "    <tr>\n",
       "      <th>25%</th>\n",
       "      <td>2174.000000</td>\n",
       "    </tr>\n",
       "    <tr>\n",
       "      <th>50%</th>\n",
       "      <td>2376.000000</td>\n",
       "    </tr>\n",
       "    <tr>\n",
       "      <th>75%</th>\n",
       "      <td>2681.750000</td>\n",
       "    </tr>\n",
       "    <tr>\n",
       "      <th>max</th>\n",
       "      <td>3561.000000</td>\n",
       "    </tr>\n",
       "  </tbody>\n",
       "</table>\n",
       "</div>"
      ],
      "text/plain": [
       "             Value\n",
       "count   450.000000\n",
       "mean   2469.775556\n",
       "std     379.140143\n",
       "min    1781.000000\n",
       "25%    2174.000000\n",
       "50%    2376.000000\n",
       "75%    2681.750000\n",
       "max    3561.000000"
      ]
     },
     "execution_count": 31,
     "metadata": {},
     "output_type": "execute_result"
    }
   ],
   "source": [
    "df2.describe()"
   ]
  },
  {
   "cell_type": "code",
   "execution_count": 32,
   "id": "56179c4d",
   "metadata": {},
   "outputs": [
    {
     "data": {
      "text/plain": [
       "45"
      ]
     },
     "execution_count": 32,
     "metadata": {},
     "output_type": "execute_result"
    }
   ],
   "source": [
    "df2['Country'].nunique()"
   ]
  },
  {
   "cell_type": "markdown",
   "id": "10e6e659",
   "metadata": {},
   "source": [
    "We have the same number of countries in the production and supply datasets"
   ]
  },
  {
   "cell_type": "code",
   "execution_count": 33,
   "id": "316730ee",
   "metadata": {},
   "outputs": [
    {
     "data": {
      "image/png": "[encoded data removed]",
      "text/plain": [
       "<Figure size 2160x720 with 1 Axes>"
      ]
     },
     "metadata": {
      "needs_background": "light"
     },
     "output_type": "display_data"
    }
   ],
   "source": [
    "df1.groupby('Country')['Value'].sum().sort_values(ascending=False).plot(figsize=(30,10))\n",
    "plt.title('Sum of values for each country');"
   ]
  },
  {
   "cell_type": "code",
   "execution_count": 34,
   "id": "0272670b",
   "metadata": {},
   "outputs": [
    {
     "data": {
      "image/png": "[encoded data removed]",
      "text/plain": [
       "<Figure size 2160x720 with 1 Axes>"
      ]
     },
     "metadata": {
      "needs_background": "light"
     },
     "output_type": "display_data"
    }
   ],
   "source": [
    "df2.groupby('Country')['Value'].sum().sort_values(ascending=False).plot(figsize=(30,10))\n",
    "plt.title('Sum of Values');"
   ]
  },
  {
   "cell_type": "code",
   "execution_count": 35,
   "id": "82f4be43",
   "metadata": {},
   "outputs": [
    {
     "data": {
      "image/png": "[encoded data removed]",
      "text/plain": [
       "<Figure size 432x288 with 1 Axes>"
      ]
     },
     "metadata": {
      "needs_background": "light"
     },
     "output_type": "display_data"
    }
   ],
   "source": [
    "df2.plot(kind='hist')\n",
    "plt.xlabel('Amount')\n",
    "plt.ylabel('Frequency')\n",
    "plt.legend()\n",
    "plt.title('Plot showing the range and frequency of supply for all the countries');"
   ]
  },
  {
   "cell_type": "code",
   "execution_count": 36,
   "id": "32857ea3",
   "metadata": {},
   "outputs": [
    {
     "data": {
      "image/png": "[encoded data removed]",
      "text/plain": [
       "<Figure size 1080x504 with 1 Axes>"
      ]
     },
     "metadata": {
      "needs_background": "light"
     },
     "output_type": "display_data"
    }
   ],
   "source": [
    "fig, ax = plt.subplots(figsize=(15,7))\n",
    "df1.groupby(df1.index.year).sum().plot(kind='bar',ax=ax)\n",
    "df2.groupby(df2.index.year).sum().plot(kind='bar',ax=ax,color='red')\n",
    "plt.xlabel('Year')\n",
    "plt.ylabel('Value')\n",
    "plt.title('Comparison of production and supply')\n",
    "plt.xticks(rotation = 0)\n",
    "plt.legend();"
   ]
  },
  {
   "cell_type": "markdown",
   "id": "a3256f82",
   "metadata": {},
   "source": [
    "As seen in the bar chart above , the total production rate has increased over the years but the total supply/consumption rate has not changed much."
   ]
  }
 ],
 "metadata": {
  "kernelspec": {
   "display_name": "Python 3 (ipykernel)",
   "language": "python",
   "name": "python3"
  },
  "language_info": {
   "codemirror_mode": {
    "name": "ipython",
    "version": 3
   },
   "file_extension": ".py",
   "mimetype": "text/x-python",
   "name": "python",
   "nbconvert_exporter": "python",
   "pygments_lexer": "ipython3",
   "version": "3.7.3"
  }
 },
 "nbformat": 4,
 "nbformat_minor": 5
}
